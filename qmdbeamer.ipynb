{
  "cells": [
    {
      "cell_type": "raw",
      "metadata": {},
      "source": [
        "---\n",
        "title: The Power of R Markdown\n",
        "subtitle: \"`rmarkdown::beamer_presentation`\"\n",
        "author: Emi Tanaka\n",
        "institute: Monash University\n",
        "date: \"30th June 2020\"\n",
        "fontsize: 10pt\n",
        "mathspec: true # for metropolis theme\n",
        "aspectratio: 169 # 16:9\n",
        "#classoption: handout\n",
        "#format: beamer\n",
        "# beamer_presentation:\n",
        "#   theme: \"Madrid\" \n",
        "   # https://deic-web.uab.cat/~iblanes/beamer_gallery/index_by_theme.html\n",
        "   #theme: \"metropolis\" # special\n",
        "#   colortheme: \"whale\"\n",
        "   # https://deic-web.uab.cat/~iblanes/beamer_gallery/index_by_color.html\n",
        "#   fonttheme: \"professionalfonts\"\n",
        "   # https://deic-web.uab.cat/~iblanes/beamer_gallery/index_by_font.html\n",
        "#   latex_engine: xelatex # for metropolis theme\n",
        " #  toc: false\n",
        "#   slide_level: 2\n",
        "#   keep_tex: true\n",
        "   #includes:\n",
        "   #   in_header: preamble.tex\n",
        "#header-includes:\n",
        "#  - \\usepackage{fancyvrb}\n",
        "#  - \\usepackage{graphicx}\n",
        "format:\n",
        "  html:\n",
        "    code-fold: true\n",
        "##jupyter: julia-1.8\n",
        "---"
      ],
      "id": "00886519"
    },
    {
      "cell_type": "markdown",
      "metadata": {},
      "source": [
        "## Parametric Plots\n",
        "\n",
        "Plot function pair (x(u), y(u)). \n",
        "See @fig-parametric for an example.\n"
      ],
      "id": "cace875e"
    },
    {
      "cell_type": "code",
      "metadata": {},
      "source": [
        "#| label: fig-parametric\n",
        "#| fig-cap: Parametric Plots\n",
        "\n",
        "using Plots\n",
        "\n",
        "plot(sin, \n",
        "     x->sin(2x), \n",
        "     0, \n",
        "     2π, \n",
        "     leg=false, \n",
        "     fill=(0,:lavender))"
      ],
      "id": "fig-parametric",
      "execution_count": null,
      "outputs": []
    }
  ],
  "metadata": {
    "kernelspec": {
      "name": "julia-1.5",
      "language": "julia",
      "display_name": "Julia 1.5.3"
    }
  },
  "nbformat": 4,
  "nbformat_minor": 5
}